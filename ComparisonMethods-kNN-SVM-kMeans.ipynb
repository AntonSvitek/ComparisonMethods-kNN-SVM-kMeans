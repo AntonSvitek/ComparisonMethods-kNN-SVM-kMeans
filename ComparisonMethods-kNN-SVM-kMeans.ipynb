{
  "nbformat": 4,
  "nbformat_minor": 0,
  "metadata": {
    "colab": {
      "name": "Untitled28.ipynb",
      "provenance": [],
      "collapsed_sections": []
    },
    "kernelspec": {
      "name": "python3",
      "display_name": "Python 3"
    },
    "language_info": {
      "name": "python"
    }
  },
  "cells": [
    {
      "cell_type": "code",
      "execution_count": null,
      "metadata": {
        "colab": {
          "base_uri": "https://localhost:8080/",
          "height": 232
        },
        "id": "SidSliWivadv",
        "outputId": "24697df3-2901-4d80-ce5d-84709fa2ed8d"
      },
      "outputs": [
        {
          "output_type": "display_data",
          "data": {
            "text/plain": [
              "<Figure size 432x288 with 1 Axes>"
            ],
            "image/png": "[encoded data removed]"
          },
          "metadata": {
            "needs_background": "light"
          }
        },
        {
          "output_type": "stream",
          "name": "stdout",
          "text": [
            "Точность метода kNN: 0.8432835820895522\n"
          ]
        }
      ],
      "source": [
        "import numpy as np\n",
        "import pandas as pd\n",
        "from sklearn.preprocessing import StandardScaler\n",
        "from sklearn.model_selection import train_test_split\n",
        "from sklearn.neighbors import KNeighborsClassifier\n",
        "from sklearn.metrics import classification_report\n",
        "from sklearn.metrics import confusion_matrix\n",
        "from sklearn.metrics import accuracy_score \n",
        "import matplotlib.pyplot as plt\n",
        "\n",
        "data = pd.read_csv('/content/drive/MyDrive/DataTitanic.csv', index_col = 0) # Загружаем данные и говорим, что в качестве меток строки будут выступать значения нулевого столбца\n",
        "\n",
        "\n",
        "data['Age'] = data['Age'].fillna(data['Age'].mean())   # Заменим пропущенные значения в столбце Age средним значением\n",
        "data['Fare'] = data['Fare'].fillna(data['Fare'].mean())   # Заменим пропущенные значения в столбце Fare средним значением\n",
        "\n",
        "# Категоризируем столбцы и переводим строковые категории в числовые\n",
        "data['Sex'] = data['Sex'].astype('category')\n",
        "data['Sex']  = data['Sex'].cat.codes\n",
        "\n",
        "data['Embarked'] = data['Embarked'].astype('category')\n",
        "data['Embarked']  = data['Embarked'].cat.codes\n",
        "\n",
        "data_used = data.drop(['Name', 'Ticket', 'Cabin'], axis = 1)  # axis = 1 означает, что происходит удаление столбцов. Если axis = 0, то удаляются строки\n",
        "\n",
        "# Стандартизируем набор данных\n",
        "scaler = StandardScaler()\n",
        "scaler.fit( data_used.drop( 'Survived', axis = 1)  )\n",
        "data_trfm_np = scaler.transform(data_used.drop('Survived', axis = 1))\n",
        "data_trfm = pd.DataFrame(data_trfm_np, columns = data_used.drop('Survived', axis = 1).columns)\n",
        "\n",
        "# Заполняем \n",
        "x_data = data_trfm\n",
        "y_data = data['Survived']\n",
        "x_train, x_test, y_train, y_test = train_test_split(x_data, y_data, test_size = 0.3)\n",
        "\n",
        "\n",
        "y_error = []\n",
        "x_error = []\n",
        "save_values = {}\n",
        "\n",
        "for k in range(1, 100): # Задаём в цикле различное значение количества соседий, от которых в итоге будет зависеть решение\n",
        "  model = KNeighborsClassifier(n_neighbors = k)\n",
        "  model.fit(x_train, y_train)\n",
        "  predictions = model.predict(x_test)\n",
        "  save_values[k] = predictions\n",
        "  y_error.append( np.mean(predictions != y_test)  )\n",
        "  x_error.append( k )\n",
        "\n",
        "plt.plot(x_error, y_error)\n",
        "plt.show()\n",
        "\n",
        "min_error = np.min(y_error)\n",
        "min_error_index = np.argpartition(y_error, 0)[0]\n",
        "data_knn = save_values[min_error_index]\n",
        "accuracy_knn = accuracy_score(y_test, data_knn)\n",
        "print('Точность метода kNN:', accuracy_knn )"
      ]
    },
    {
      "cell_type": "code",
      "source": [
        "from sklearn.svm import SVC\n",
        "\n",
        "error_svc = {}\n",
        "x_error_svc = []\n",
        "save_values_svc = {}\n",
        "\n",
        "# Параметр регуляризации (C) – мера степени наказания модели за каждую неверно классифицированную точку.\n",
        "# Ядра – функции преобразования могут так трансформировать набор точек, что разделяющая гиперплоскость будет найдена.\n",
        "# C - контролирует, насколько мы хотим наказать модель за каждую неверно классифицированную точку. \n",
        "# Большое значение C приводит к тому, что из всех возможных гиперплоскостей будет иметь приоритет тот, что совершил наименьшее количество классификационных ошибок.\n",
        "# Низкое значение C, наоборот, выберет такую разделительную границу, что хорошо разделяет точки, допуская некоторую погрешность.\n",
        "\n",
        "for c in range(1, 100): # В цикле будем задавать различное значение регулятивной переменной С\n",
        "  model_svc = SVC(kernel='rbf', C = c) # Задаём Гауссово ядро\n",
        "  model_svc.fit(x_train, y_train)\n",
        "  predictions_svc = model_svc.predict(x_test)\n",
        "  save_values_svc[c] = predictions_svc\n",
        "  error_svc[c] = np.mean(predictions_svc != y_test)\n",
        "  x_error_svc.append( c )\n",
        "\n",
        "plt.plot( [*error_svc.keys()],[*error_svc.values()])\n",
        "plt.show()\n",
        "\n",
        "def search_min(array):\n",
        "  min_value = 1\n",
        "  min_c = np.NaN\n",
        "  for key in array.keys():\n",
        "    if min_value > array[key]:\n",
        "      min_value = array[key]\n",
        "      min_c = key\n",
        "  return min_c\n",
        "\n",
        "min = search_min(error_svc)\n",
        "data_svm = save_values_svc[min]\n",
        "accuracy_svc = accuracy_score(y_test, data_svm)\n",
        "print('Точность метода SVM:', accuracy_svc )"
      ],
      "metadata": {
        "colab": {
          "base_uri": "https://localhost:8080/",
          "height": 229
        },
        "id": "ViVVjNZ5DYUB",
        "outputId": "f139b4ac-315b-49d2-f8bf-7ae284683bbc"
      },
      "execution_count": null,
      "outputs": [
        {
          "output_type": "display_data",
          "data": {
            "text/plain": [
              "<Figure size 432x288 with 1 Axes>"
            ],
            "image/png": "[encoded data removed]"
          },
          "metadata": {
            "needs_background": "light"
          }
        },
        {
          "output_type": "stream",
          "name": "stdout",
          "text": [
            "Точность метода SVM: 0.8395522388059702\n"
          ]
        }
      ]
    },
    {
      "cell_type": "code",
      "source": [
        "from sklearn.cluster import KMeans\n",
        "\n",
        "model_kmeans = KMeans(n_clusters=2)\n",
        "\n",
        "model_kmeans.fit(x_train)\n",
        "predictions_kmeans = model_kmeans.predict(x_test)\n",
        "\n",
        "def replace(array): # Функция для замены значений бинарного массива на противоположные\n",
        "  new_array = []\n",
        "  for value in array:\n",
        "    if value == 1:\n",
        "      new_array.append(0)\n",
        "    else:\n",
        "      new_array.append(1)\n",
        "  #print(new_array)\n",
        "  return new_array\n",
        "\n",
        "def check(array_test, array_pred): # Функция проверки соответствия идентичности принадлежности меток классов\n",
        "  array_test = np.array(array_test)\n",
        "  array_pred = np.array(array_pred)\n",
        "  count = 0\n",
        "  len_count = []\n",
        "  for i in range(0, len(array_test)-1):\n",
        "    if array_test[i] == array_pred[i]:\n",
        "      count = count+1\n",
        "    else:\n",
        "      len_count.append(count)\n",
        "      count = 0\n",
        "  if np.max(len_count) <= 7:\n",
        "    return replace(array_pred)\n",
        "  else:\n",
        "    return array_pred\n",
        "\n",
        "data_kmeans = check(y_test, predictions_kmeans)\n",
        "\n",
        "accuracy_kmeans = accuracy_score(np.array(y_test) , data_kmeans )\n",
        "print('Точность метода k-Means:', accuracy_kmeans)"
      ],
      "metadata": {
        "colab": {
          "base_uri": "https://localhost:8080/"
        },
        "id": "TK-HxSGD2oNP",
        "outputId": "4e049dc5-08d6-494c-fa88-01d4b6897810"
      },
      "execution_count": null,
      "outputs": [
        {
          "output_type": "stream",
          "name": "stdout",
          "text": [
            "Точность метода k-Means: 0.7164179104477612\n"
          ]
        }
      ]
    },
    {
      "cell_type": "code",
      "source": [
        "#data_knn\n",
        "#data_svm \n",
        "#data_kmeans\n",
        "\n",
        "def ansambly(array1, array2, array3):\n",
        "  count0 = 0\n",
        "  count1 = 0\n",
        "  real_array = []\n",
        "  for i in range(0, len(array1)):\n",
        "    if array1[i] == 0:\n",
        "      count0 = count0 + 1\n",
        "    else:\n",
        "      count1 = count1 + 1\n",
        "\n",
        "    if array2[i] == 0:\n",
        "      count0 = count0 + 1\n",
        "    else:\n",
        "      count1 = count1 + 1\n",
        "\n",
        "    if array3[i] == 0:\n",
        "      count0 = count0 + 1\n",
        "    else:\n",
        "      count1 = count1 + 1\n",
        "\n",
        "    if count1 > count0:\n",
        "        real_array.append(1)\n",
        "    else:\n",
        "        real_array.append(0)     \n",
        "\n",
        "    count0 = 0\n",
        "    count1 = 0\n",
        "  return real_array\n",
        "\n",
        "\n",
        "ans = ansambly(data_knn, data_svm , data_kmeans)\n",
        "\n",
        "accuracy_ansambly = accuracy_score(y_test , ans )\n",
        "print('Точность ансамбля трёх методов:', accuracy_ansambly)\n",
        "\n",
        "general = pd.DataFrame({ 'kNN' : data_knn , 'SVM' : data_svm , 'k-Means' : data_kmeans, 'Ansambly' : ans, 'original' : y_test })\n",
        "general.to_csv('general.csv', sep=',')\n",
        "general.head()"
      ],
      "metadata": {
        "colab": {
          "base_uri": "https://localhost:8080/",
          "height": 336
        },
        "id": "beVctC_wnvv5",
        "outputId": "caffd671-5390-4efd-8fcb-2e0af81c4dd3"
      },
      "execution_count": null,
      "outputs": [
        {
          "output_type": "stream",
          "name": "stdout",
          "text": [
            "Точность ансамбля трёх методов: 0.8470149253731343\n"
          ]
        },
        {
          "output_type": "execute_result",
          "data": {
            "text/plain": [
              "             kNN  SVM  k-Means  Ansambly  original\n",
              "PassengerId                                       \n",
              "773            1    1        1         1         0\n",
              "831            1    1        0         1         1\n",
              "67             1    1        0         1         1\n",
              "93             0    0        1         0         0\n",
              "751            1    1        0         1         1"
            ],
            "text/html": [
              "\n",
              "  <div id=\"df-d087872a-073d-46d5-bb31-84531b565a0c\">\n",
              "    <div class=\"colab-df-container\">\n",
              "      <div>\n",
              "<style scoped>\n",
              "    .dataframe tbody tr th:only-of-type {\n",
              "        vertical-align: middle;\n",
              "    }\n",
              "\n",
              "    .dataframe tbody tr th {\n",
              "        vertical-align: top;\n",
              "    }\n",
              "\n",
              "    .dataframe thead th {\n",
              "        text-align: right;\n",
              "    }\n",
              "</style>\n",
              "<table border=\"1\" class=\"dataframe\">\n",
              "  <thead>\n",
              "    <tr style=\"text-align: right;\">\n",
              "      <th></th>\n",
              "      <th>kNN</th>\n",
              "      <th>SVM</th>\n",
              "      <th>k-Means</th>\n",
              "      <th>Ansambly</th>\n",
              "      <th>original</th>\n",
              "    </tr>\n",
              "    <tr>\n",
              "      <th>PassengerId</th>\n",
              "      <th></th>\n",
              "      <th></th>\n",
              "      <th></th>\n",
              "      <th></th>\n",
              "      <th></th>\n",
              "    </tr>\n",
              "  </thead>\n",
              "  <tbody>\n",
              "    <tr>\n",
              "      <th>773</th>\n",
              "      <td>1</td>\n",
              "      <td>1</td>\n",
              "      <td>1</td>\n",
              "      <td>1</td>\n",
              "      <td>0</td>\n",
              "    </tr>\n",
              "    <tr>\n",
              "      <th>831</th>\n",
              "      <td>1</td>\n",
              "      <td>1</td>\n",
              "      <td>0</td>\n",
              "      <td>1</td>\n",
              "      <td>1</td>\n",
              "    </tr>\n",
              "    <tr>\n",
              "      <th>67</th>\n",
              "      <td>1</td>\n",
              "      <td>1</td>\n",
              "      <td>0</td>\n",
              "      <td>1</td>\n",
              "      <td>1</td>\n",
              "    </tr>\n",
              "    <tr>\n",
              "      <th>93</th>\n",
              "      <td>0</td>\n",
              "      <td>0</td>\n",
              "      <td>1</td>\n",
              "      <td>0</td>\n",
              "      <td>0</td>\n",
              "    </tr>\n",
              "    <tr>\n",
              "      <th>751</th>\n",
              "      <td>1</td>\n",
              "      <td>1</td>\n",
              "      <td>0</td>\n",
              "      <td>1</td>\n",
              "      <td>1</td>\n",
              "    </tr>\n",
              "  </tbody>\n",
              "</table>\n",
              "</div>\n",
              "      <button class=\"colab-df-convert\" onclick=\"convertToInteractive('df-d087872a-073d-46d5-bb31-84531b565a0c')\"\n",
              "              title=\"Convert this dataframe to an interactive table.\"\n",
              "              style=\"display:none;\">\n",
              "        \n",
              "  <svg xmlns=\"http://www.w3.org/2000/svg\" height=\"24px\"viewBox=\"0 0 24 24\"\n",
              "       width=\"24px\">\n",
              "    <path d=\"M0 0h24v24H0V0z\" fill=\"none\"/>\n",
              "    <path d=\"M18.56 5.44l.94 2.06.94-2.06 2.06-.94-2.06-.94-.94-2.06-.94 2.06-2.06.94zm-11 1L8.5 8.5l.94-2.06 2.06-.94-2.06-.94L8.5 2.5l-.94 2.06-2.06.94zm10 10l.94 2.06.94-2.06 2.06-.94-2.06-.94-.94-2.06-.94 2.06-2.06.94z\"/><path d=\"M17.41 7.96l-1.37-1.37c-.4-.4-.92-.59-1.43-.59-.52 0-1.04.2-1.43.59L10.3 9.45l-7.72 7.72c-.78.78-.78 2.05 0 2.83L4 21.41c.39.39.9.59 1.41.59.51 0 1.02-.2 1.41-.59l7.78-7.78 2.81-2.81c.8-.78.8-2.07 0-2.86zM5.41 20L4 18.59l7.72-7.72 1.47 1.35L5.41 20z\"/>\n",
              "  </svg>\n",
              "      </button>\n",
              "      \n",
              "  <style>\n",
              "    .colab-df-container {\n",
              "      display:flex;\n",
              "      flex-wrap:wrap;\n",
              "      gap: 12px;\n",
              "    }\n",
              "\n",
              "    .colab-df-convert {\n",
              "      background-color: #E8F0FE;\n",
              "      border: none;\n",
              "      border-radius: 50%;\n",
              "      cursor: pointer;\n",
              "      display: none;\n",
              "      fill: #1967D2;\n",
              "      height: 32px;\n",
              "      padding: 0 0 0 0;\n",
              "      width: 32px;\n",
              "    }\n",
              "\n",
              "    .colab-df-convert:hover {\n",
              "      background-color: #E2EBFA;\n",
              "      box-shadow: 0px 1px 2px rgba(60, 64, 67, 0.3), 0px 1px 3px 1px rgba(60, 64, 67, 0.15);\n",
              "      fill: #174EA6;\n",
              "    }\n",
              "\n",
              "    [theme=dark] .colab-df-convert {\n",
              "      background-color: #3B4455;\n",
              "      fill: #D2E3FC;\n",
              "    }\n",
              "\n",
              "    [theme=dark] .colab-df-convert:hover {\n",
              "      background-color: #434B5C;\n",
              "      box-shadow: 0px 1px 3px 1px rgba(0, 0, 0, 0.15);\n",
              "      filter: drop-shadow(0px 1px 2px rgba(0, 0, 0, 0.3));\n",
              "      fill: #FFFFFF;\n",
              "    }\n",
              "  </style>\n",
              "\n",
              "      <script>\n",
              "        const buttonEl =\n",
              "          document.querySelector('#df-d087872a-073d-46d5-bb31-84531b565a0c button.colab-df-convert');\n",
              "        buttonEl.style.display =\n",
              "          google.colab.kernel.accessAllowed ? 'block' : 'none';\n",
              "\n",
              "        async function convertToInteractive(key) {\n",
              "          const element = document.querySelector('#df-d087872a-073d-46d5-bb31-84531b565a0c');\n",
              "          const dataTable =\n",
              "            await google.colab.kernel.invokeFunction('convertToInteractive',\n",
              "                                                     [key], {});\n",
              "          if (!dataTable) return;\n",
              "\n",
              "          const docLinkHtml = 'Like what you see? Visit the ' +\n",
              "            '<a target=\"_blank\" href=https://colab.research.google.com/notebooks/data_table.ipynb>data table notebook</a>'\n",
              "            + ' to learn more about interactive tables.';\n",
              "          element.innerHTML = '';\n",
              "          dataTable['output_type'] = 'display_data';\n",
              "          await google.colab.output.renderOutput(dataTable, element);\n",
              "          const docLink = document.createElement('div');\n",
              "          docLink.innerHTML = docLinkHtml;\n",
              "          element.appendChild(docLink);\n",
              "        }\n",
              "      </script>\n",
              "    </div>\n",
              "  </div>\n",
              "  "
            ]
          },
          "metadata": {},
          "execution_count": 4
        }
      ]
    },
    {
      "cell_type": "code",
      "source": [
        "print(classification_report(y_test, data_knn))\n",
        "print(classification_report(y_test, data_svm))\n",
        "print(classification_report(y_test, data_kmeans))"
      ],
      "metadata": {
        "colab": {
          "base_uri": "https://localhost:8080/"
        },
        "id": "7sp3bldAL-UO",
        "outputId": "769bd490-f9bd-44bd-edd4-873cbfc97e5d"
      },
      "execution_count": null,
      "outputs": [
        {
          "output_type": "stream",
          "name": "stdout",
          "text": [
            "              precision    recall  f1-score   support\n",
            "\n",
            "           0       0.84      0.87      0.85       164\n",
            "           1       0.78      0.73      0.76       104\n",
            "\n",
            "    accuracy                           0.82       268\n",
            "   macro avg       0.81      0.80      0.80       268\n",
            "weighted avg       0.82      0.82      0.82       268\n",
            "\n",
            "              precision    recall  f1-score   support\n",
            "\n",
            "           0       0.62      0.66      0.64       164\n",
            "           1       0.40      0.37      0.38       104\n",
            "\n",
            "    accuracy                           0.54       268\n",
            "   macro avg       0.51      0.51      0.51       268\n",
            "weighted avg       0.54      0.54      0.54       268\n",
            "\n",
            "              precision    recall  f1-score   support\n",
            "\n",
            "           0       0.61      0.72      0.66       164\n",
            "           1       0.38      0.27      0.31       104\n",
            "\n",
            "    accuracy                           0.54       268\n",
            "   macro avg       0.49      0.49      0.49       268\n",
            "weighted avg       0.52      0.54      0.53       268\n",
            "\n"
          ]
        }
      ]
    }
  ]
}